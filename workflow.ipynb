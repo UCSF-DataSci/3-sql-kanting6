{
 "cells": [
  {
   "cell_type": "code",
   "execution_count": null,
   "id": "451d006e",
   "metadata": {},
   "outputs": [],
   "source": [
    "# Install required packages\n",
    "%pip install jupysql sqlalchemy pandas --quiet\n",
    "\n",
    "# Load SQL magic\n",
    "%load_ext sql\n",
    "\n",
    "# Connect to the database\n",
    "%sql sqlite:///sql-murder-mystery.db"
   ]
  },
  {
   "cell_type": "code",
   "execution_count": null,
   "id": "6394ea8b",
   "metadata": {},
   "outputs": [],
   "source": [
    "%%sql\n",
    "SELECT name\n",
    "FROM sqlite_master\n",
    "where type = 'table'"
   ]
  },
  {
   "cell_type": "code",
   "execution_count": null,
   "id": "201cdf24",
   "metadata": {},
   "outputs": [],
   "source": [
    "%%sql\n",
    "SELECT sql\n",
    "FROM sqlite_master\n",
    "where name = 'crime_scene_report'"
   ]
  },
  {
   "cell_type": "code",
   "execution_count": null,
   "id": "8f9b8236",
   "metadata": {},
   "outputs": [],
   "source": [
    "%%sql\n",
    "SELECT DISTINCT type FROM crime_scene_report;"
   ]
  },
  {
   "cell_type": "code",
   "execution_count": null,
   "id": "580075a4",
   "metadata": {},
   "outputs": [],
   "source": [
    "%%sql\n",
    "SELECT DISTINCT date FROM crime_scene_report"
   ]
  },
  {
   "cell_type": "code",
   "execution_count": null,
   "id": "43a2379d",
   "metadata": {},
   "outputs": [],
   "source": [
    "%%sql\n",
    "SELECT *\n",
    "FROM crime_scene_report\n",
    "WHERE type = 'murder' AND date = 20180115"
   ]
  },
  {
   "cell_type": "code",
   "execution_count": null,
   "id": "f5fcf1cc",
   "metadata": {},
   "outputs": [],
   "source": [
    "%%sql\n",
    "SELECT sql\n",
    "FROM sqlite_master\n",
    "where name = 'person'"
   ]
  },
  {
   "cell_type": "code",
   "execution_count": null,
   "id": "025ae307",
   "metadata": {},
   "outputs": [],
   "source": [
    "%%sql\n",
    "SELECT *, MAX(address_number) \n",
    "FROM person\n",
    "WHERE address_street_name = 'Northwestern Dr'"
   ]
  },
  {
   "cell_type": "code",
   "execution_count": null,
   "id": "4f4d4ba0",
   "metadata": {},
   "outputs": [],
   "source": [
    "%%sql\n",
    "SELECT *\n",
    "FROM person\n",
    "WHERE address_street_name = 'Franklin Ave' AND name LIKE 'Annabel %'"
   ]
  },
  {
   "cell_type": "code",
   "execution_count": null,
   "id": "29a66357",
   "metadata": {},
   "outputs": [],
   "source": [
    "%%sql\n",
    "SELECT sql\n",
    "FROM sqlite_master\n",
    "where name = 'interview'"
   ]
  },
  {
   "cell_type": "code",
   "execution_count": null,
   "id": "ff937a35",
   "metadata": {},
   "outputs": [],
   "source": [
    "%%sql\n",
    "SELECT *\n",
    "FROM interview\n",
    "WHERE person_id = 14887 OR person_id = 16371"
   ]
  },
  {
   "cell_type": "code",
   "execution_count": null,
   "id": "4526e327",
   "metadata": {},
   "outputs": [],
   "source": [
    "%%sql\n",
    "SELECT sql\n",
    "FROM sqlite_master\n",
    "where name = 'get_fit_now_check_in'"
   ]
  },
  {
   "cell_type": "code",
   "execution_count": null,
   "id": "d9d17a1c",
   "metadata": {},
   "outputs": [],
   "source": [
    "%%sql\n",
    "SELECT *\n",
    "FROM get_fit_now_check_in\n",
    "WHERE check_in_date = 20180109 AND membership_id LIKE '48Z_%'"
   ]
  },
  {
   "cell_type": "code",
   "execution_count": null,
   "id": "9946f495",
   "metadata": {},
   "outputs": [],
   "source": [
    "%%sql\n",
    "SELECT sql\n",
    "FROM sqlite_master\n",
    "where name = 'get_fit_now_member'"
   ]
  },
  {
   "cell_type": "code",
   "execution_count": null,
   "id": "ace6614c",
   "metadata": {},
   "outputs": [],
   "source": [
    "%%sql\n",
    "SELECT *\n",
    "FROM get_fit_now_member\n",
    "WHERE id = '48Z7A' OR id = '48Z55'"
   ]
  },
  {
   "cell_type": "code",
   "execution_count": null,
   "id": "2c41e939",
   "metadata": {},
   "outputs": [],
   "source": [
    "%%sql  \n",
    "SELECT *\n",
    "FROM interview\n",
    "WHERE person_id = 67318 OR person_id = 28819 -- Jeremy Bowers is the killer"
   ]
  },
  {
   "cell_type": "code",
   "execution_count": null,
   "id": "d52239bb",
   "metadata": {},
   "outputs": [],
   "source": [
    "%%sql\n",
    "SELECT *\n",
    "FROM drivers_license\n",
    "WHERE gender = 'female' AND hair_color = 'red' AND car_make = 'Tesla'"
   ]
  },
  {
   "cell_type": "code",
   "execution_count": null,
   "id": "ec0b2688",
   "metadata": {},
   "outputs": [],
   "source": [
    "%%sql\n",
    "SELECT sql\n",
    "FROM sqlite_master\n",
    "where name = 'facebook_event_checkin' "
   ]
  },
  {
   "cell_type": "code",
   "execution_count": null,
   "id": "0aa6371e",
   "metadata": {},
   "outputs": [],
   "source": [
    "%%sql\n",
    "SELECT * \n",
    "FROM facebook_event_checkin\n",
    "WHERE event_name = 'SQL Symphony Concert' AND date LIKE '201712_%'\n",
    "GROUP BY person_id\n",
    "HAVING COUNT(*) = 3"
   ]
  },
  {
   "cell_type": "code",
   "execution_count": null,
   "id": "63d5c707",
   "metadata": {},
   "outputs": [],
   "source": [
    "%%sql\n",
    "SELECT *\n",
    "FROM person\n",
    "WHERE id = 24556 OR id = 99716\n",
    "-- Miranda Priestly hired Jeremy Bowers to commit a murder"
   ]
  },
  {
   "cell_type": "code",
   "execution_count": null,
   "id": "7ecbaaad",
   "metadata": {},
   "outputs": [],
   "source": [
    "%%sql\n",
    "SELECT *\n",
    "FROM income\n",
    "WHERE ssn = 987756388"
   ]
  }
 ],
 "metadata": {
  "language_info": {
   "name": "python"
  }
 },
 "nbformat": 4,
 "nbformat_minor": 5
}
